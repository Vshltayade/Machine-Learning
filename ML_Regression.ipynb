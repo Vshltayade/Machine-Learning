{
  "nbformat": 4,
  "nbformat_minor": 0,
  "metadata": {
    "colab": {
      "name": "ML-Regression.ipynb",
      "provenance": [],
      "authorship_tag": "ABX9TyMvmrF1Ewkl1pypx158dOCz",
      "include_colab_link": true
    },
    "kernelspec": {
      "name": "python3",
      "display_name": "Python 3"
    },
    "accelerator": "GPU"
  },
  "cells": [
    {
      "cell_type": "markdown",
      "metadata": {
        "id": "view-in-github",
        "colab_type": "text"
      },
      "source": [
        "<a href=\"https://colab.research.google.com/github/Vshltayade/Machine-Learning/blob/master/ML_Regression.ipynb\" target=\"_parent\"><img src=\"https://colab.research.google.com/assets/colab-badge.svg\" alt=\"Open In Colab\"/></a>"
      ]
    },
    {
      "cell_type": "code",
      "metadata": {
        "id": "2Jyn81Tqa-U5",
        "colab_type": "code",
        "colab": {
          "base_uri": "https://localhost:8080/",
          "height": 34
        },
        "outputId": "194bb695-7cec-4f3a-b3b4-4572ca2be4b6"
      },
      "source": [
        "import numpy\n",
        "import matplotlib.pyplot as plt\n",
        "import pandas as pd\n",
        "\n",
        "print(\"Imported\")"
      ],
      "execution_count": 130,
      "outputs": [
        {
          "output_type": "stream",
          "text": [
            "Imported\n"
          ],
          "name": "stdout"
        }
      ]
    },
    {
      "cell_type": "code",
      "metadata": {
        "id": "EkD8y8xadSar",
        "colab_type": "code",
        "colab": {}
      },
      "source": [
        "dataset = pd.read_csv(\"/content/kc_house_data.csv\")"
      ],
      "execution_count": 131,
      "outputs": []
    },
    {
      "cell_type": "code",
      "metadata": {
        "id": "FxmQ3JjddpAh",
        "colab_type": "code",
        "colab": {
          "base_uri": "https://localhost:8080/",
          "height": 101
        },
        "outputId": "6bd8f1c5-21a3-43e2-ecee-7ded703010d6"
      },
      "source": [
        "dataset.columns"
      ],
      "execution_count": 132,
      "outputs": [
        {
          "output_type": "execute_result",
          "data": {
            "text/plain": [
              "Index(['id', 'date', 'price', 'bedrooms', 'bathrooms', 'sqft_living',\n",
              "       'sqft_lot', 'floors', 'waterfront', 'view', 'condition', 'grade',\n",
              "       'sqft_above', 'sqft_basement', 'yr_built', 'yr_renovated', 'zipcode',\n",
              "       'lat', 'long', 'sqft_living15', 'sqft_lot15'],\n",
              "      dtype='object')"
            ]
          },
          "metadata": {
            "tags": []
          },
          "execution_count": 132
        }
      ]
    },
    {
      "cell_type": "code",
      "metadata": {
        "id": "xQkfRZcieUA9",
        "colab_type": "code",
        "colab": {
          "base_uri": "https://localhost:8080/",
          "height": 386
        },
        "outputId": "bba73a26-17b6-48ed-c2a4-883ae092c790"
      },
      "source": [
        "dataset.dtypes"
      ],
      "execution_count": 133,
      "outputs": [
        {
          "output_type": "execute_result",
          "data": {
            "text/plain": [
              "id                 int64\n",
              "date              object\n",
              "price            float64\n",
              "bedrooms           int64\n",
              "bathrooms        float64\n",
              "sqft_living        int64\n",
              "sqft_lot           int64\n",
              "floors           float64\n",
              "waterfront         int64\n",
              "view               int64\n",
              "condition          int64\n",
              "grade              int64\n",
              "sqft_above         int64\n",
              "sqft_basement      int64\n",
              "yr_built           int64\n",
              "yr_renovated       int64\n",
              "zipcode            int64\n",
              "lat              float64\n",
              "long             float64\n",
              "sqft_living15      int64\n",
              "sqft_lot15         int64\n",
              "dtype: object"
            ]
          },
          "metadata": {
            "tags": []
          },
          "execution_count": 133
        }
      ]
    },
    {
      "cell_type": "code",
      "metadata": {
        "id": "ipUJHlXHe2UG",
        "colab_type": "code",
        "colab": {}
      },
      "source": [
        "dataset = dataset.drop(['id', 'date', 'zipcode', 'lat', 'long', 'sqft_lot15', 'waterfront'], axis = 1)"
      ],
      "execution_count": 134,
      "outputs": []
    },
    {
      "cell_type": "code",
      "metadata": {
        "id": "VyYfOxIHfNky",
        "colab_type": "code",
        "colab": {
          "base_uri": "https://localhost:8080/",
          "height": 84
        },
        "outputId": "990c4523-1a1b-4b9b-f9e4-44fa531f14d8"
      },
      "source": [
        "dataset.columns"
      ],
      "execution_count": 135,
      "outputs": [
        {
          "output_type": "execute_result",
          "data": {
            "text/plain": [
              "Index(['price', 'bedrooms', 'bathrooms', 'sqft_living', 'sqft_lot', 'floors',\n",
              "       'view', 'condition', 'grade', 'sqft_above', 'sqft_basement', 'yr_built',\n",
              "       'yr_renovated', 'sqft_living15'],\n",
              "      dtype='object')"
            ]
          },
          "metadata": {
            "tags": []
          },
          "execution_count": 135
        }
      ]
    },
    {
      "cell_type": "code",
      "metadata": {
        "id": "E6tJxEbNfUb3",
        "colab_type": "code",
        "colab": {
          "base_uri": "https://localhost:8080/",
          "height": 195
        },
        "outputId": "36b90c8f-7961-4f61-c934-805243599538"
      },
      "source": [
        "dataset.head()"
      ],
      "execution_count": 136,
      "outputs": [
        {
          "output_type": "execute_result",
          "data": {
            "text/html": [
              "<div>\n",
              "<style scoped>\n",
              "    .dataframe tbody tr th:only-of-type {\n",
              "        vertical-align: middle;\n",
              "    }\n",
              "\n",
              "    .dataframe tbody tr th {\n",
              "        vertical-align: top;\n",
              "    }\n",
              "\n",
              "    .dataframe thead th {\n",
              "        text-align: right;\n",
              "    }\n",
              "</style>\n",
              "<table border=\"1\" class=\"dataframe\">\n",
              "  <thead>\n",
              "    <tr style=\"text-align: right;\">\n",
              "      <th></th>\n",
              "      <th>price</th>\n",
              "      <th>bedrooms</th>\n",
              "      <th>bathrooms</th>\n",
              "      <th>sqft_living</th>\n",
              "      <th>sqft_lot</th>\n",
              "      <th>floors</th>\n",
              "      <th>view</th>\n",
              "      <th>condition</th>\n",
              "      <th>grade</th>\n",
              "      <th>sqft_above</th>\n",
              "      <th>sqft_basement</th>\n",
              "      <th>yr_built</th>\n",
              "      <th>yr_renovated</th>\n",
              "      <th>sqft_living15</th>\n",
              "    </tr>\n",
              "  </thead>\n",
              "  <tbody>\n",
              "    <tr>\n",
              "      <th>0</th>\n",
              "      <td>221900.0</td>\n",
              "      <td>3</td>\n",
              "      <td>1.00</td>\n",
              "      <td>1180</td>\n",
              "      <td>5650</td>\n",
              "      <td>1.0</td>\n",
              "      <td>0</td>\n",
              "      <td>3</td>\n",
              "      <td>7</td>\n",
              "      <td>1180</td>\n",
              "      <td>0</td>\n",
              "      <td>1955</td>\n",
              "      <td>0</td>\n",
              "      <td>1340</td>\n",
              "    </tr>\n",
              "    <tr>\n",
              "      <th>1</th>\n",
              "      <td>538000.0</td>\n",
              "      <td>3</td>\n",
              "      <td>2.25</td>\n",
              "      <td>2570</td>\n",
              "      <td>7242</td>\n",
              "      <td>2.0</td>\n",
              "      <td>0</td>\n",
              "      <td>3</td>\n",
              "      <td>7</td>\n",
              "      <td>2170</td>\n",
              "      <td>400</td>\n",
              "      <td>1951</td>\n",
              "      <td>1991</td>\n",
              "      <td>1690</td>\n",
              "    </tr>\n",
              "    <tr>\n",
              "      <th>2</th>\n",
              "      <td>180000.0</td>\n",
              "      <td>2</td>\n",
              "      <td>1.00</td>\n",
              "      <td>770</td>\n",
              "      <td>10000</td>\n",
              "      <td>1.0</td>\n",
              "      <td>0</td>\n",
              "      <td>3</td>\n",
              "      <td>6</td>\n",
              "      <td>770</td>\n",
              "      <td>0</td>\n",
              "      <td>1933</td>\n",
              "      <td>0</td>\n",
              "      <td>2720</td>\n",
              "    </tr>\n",
              "    <tr>\n",
              "      <th>3</th>\n",
              "      <td>604000.0</td>\n",
              "      <td>4</td>\n",
              "      <td>3.00</td>\n",
              "      <td>1960</td>\n",
              "      <td>5000</td>\n",
              "      <td>1.0</td>\n",
              "      <td>0</td>\n",
              "      <td>5</td>\n",
              "      <td>7</td>\n",
              "      <td>1050</td>\n",
              "      <td>910</td>\n",
              "      <td>1965</td>\n",
              "      <td>0</td>\n",
              "      <td>1360</td>\n",
              "    </tr>\n",
              "    <tr>\n",
              "      <th>4</th>\n",
              "      <td>510000.0</td>\n",
              "      <td>3</td>\n",
              "      <td>2.00</td>\n",
              "      <td>1680</td>\n",
              "      <td>8080</td>\n",
              "      <td>1.0</td>\n",
              "      <td>0</td>\n",
              "      <td>3</td>\n",
              "      <td>8</td>\n",
              "      <td>1680</td>\n",
              "      <td>0</td>\n",
              "      <td>1987</td>\n",
              "      <td>0</td>\n",
              "      <td>1800</td>\n",
              "    </tr>\n",
              "  </tbody>\n",
              "</table>\n",
              "</div>"
            ],
            "text/plain": [
              "      price  bedrooms  bathrooms  ...  yr_built  yr_renovated  sqft_living15\n",
              "0  221900.0         3       1.00  ...      1955             0           1340\n",
              "1  538000.0         3       2.25  ...      1951          1991           1690\n",
              "2  180000.0         2       1.00  ...      1933             0           2720\n",
              "3  604000.0         4       3.00  ...      1965             0           1360\n",
              "4  510000.0         3       2.00  ...      1987             0           1800\n",
              "\n",
              "[5 rows x 14 columns]"
            ]
          },
          "metadata": {
            "tags": []
          },
          "execution_count": 136
        }
      ]
    },
    {
      "cell_type": "code",
      "metadata": {
        "id": "X0OU9BQzgSXX",
        "colab_type": "code",
        "colab": {
          "base_uri": "https://localhost:8080/",
          "height": 34
        },
        "outputId": "b701cc62-6ef3-406f-f418-8069542be696"
      },
      "source": [
        "dataset['price'].corr(dataset['bedrooms'])"
      ],
      "execution_count": 137,
      "outputs": [
        {
          "output_type": "execute_result",
          "data": {
            "text/plain": [
              "0.308349598145638"
            ]
          },
          "metadata": {
            "tags": []
          },
          "execution_count": 137
        }
      ]
    },
    {
      "cell_type": "code",
      "metadata": {
        "id": "tncv3ditjfmt",
        "colab_type": "code",
        "colab": {
          "base_uri": "https://localhost:8080/",
          "height": 307
        },
        "outputId": "5bee7c7b-66fb-4cd1-f9fa-24b2af6ed3dc"
      },
      "source": [
        "dataset.plot.scatter(x='grade', y='price')"
      ],
      "execution_count": 138,
      "outputs": [
        {
          "output_type": "execute_result",
          "data": {
            "text/plain": [
              "<matplotlib.axes._subplots.AxesSubplot at 0x7fae3e4f4978>"
            ]
          },
          "metadata": {
            "tags": []
          },
          "execution_count": 138
        },
        {
          "output_type": "display_data",
          "data": {
            "image/png": "[encoded data removed]",
            "text/plain": [
              "<Figure size 432x288 with 1 Axes>"
            ]
          },
          "metadata": {
            "tags": [],
            "needs_background": "light"
          }
        }
      ]
    },
    {
      "cell_type": "code",
      "metadata": {
        "id": "oOeG62gonw2F",
        "colab_type": "code",
        "colab": {}
      },
      "source": [
        "X = dataset.iloc[:,1:].values\n",
        "y = dataset.iloc[:,0].values"
      ],
      "execution_count": 139,
      "outputs": []
    },
    {
      "cell_type": "code",
      "metadata": {
        "id": "ZKdLlu4RoYhR",
        "colab_type": "code",
        "colab": {
          "base_uri": "https://localhost:8080/",
          "height": 235
        },
        "outputId": "035df68d-73b5-470d-aae8-0ed26e1e3a56"
      },
      "source": [
        "X"
      ],
      "execution_count": 140,
      "outputs": [
        {
          "output_type": "execute_result",
          "data": {
            "text/plain": [
              "array([[3.000e+00, 1.000e+00, 1.180e+03, ..., 1.955e+03, 0.000e+00,\n",
              "        1.340e+03],\n",
              "       [3.000e+00, 2.250e+00, 2.570e+03, ..., 1.951e+03, 1.991e+03,\n",
              "        1.690e+03],\n",
              "       [2.000e+00, 1.000e+00, 7.700e+02, ..., 1.933e+03, 0.000e+00,\n",
              "        2.720e+03],\n",
              "       ...,\n",
              "       [2.000e+00, 7.500e-01, 1.020e+03, ..., 2.009e+03, 0.000e+00,\n",
              "        1.020e+03],\n",
              "       [3.000e+00, 2.500e+00, 1.600e+03, ..., 2.004e+03, 0.000e+00,\n",
              "        1.410e+03],\n",
              "       [2.000e+00, 7.500e-01, 1.020e+03, ..., 2.008e+03, 0.000e+00,\n",
              "        1.020e+03]])"
            ]
          },
          "metadata": {
            "tags": []
          },
          "execution_count": 140
        }
      ]
    },
    {
      "cell_type": "code",
      "metadata": {
        "id": "q0ZjlhN5ok32",
        "colab_type": "code",
        "colab": {
          "base_uri": "https://localhost:8080/",
          "height": 34
        },
        "outputId": "b8532f5a-9ae3-4b55-e5d4-e37a64c9a296"
      },
      "source": [
        "y"
      ],
      "execution_count": 141,
      "outputs": [
        {
          "output_type": "execute_result",
          "data": {
            "text/plain": [
              "array([221900., 538000., 180000., ..., 402101., 400000., 325000.])"
            ]
          },
          "metadata": {
            "tags": []
          },
          "execution_count": 141
        }
      ]
    },
    {
      "cell_type": "code",
      "metadata": {
        "id": "XkHmTwxHpNL-",
        "colab_type": "code",
        "colab": {
          "base_uri": "https://localhost:8080/",
          "height": 67
        },
        "outputId": "3c190a04-30a1-4d0c-ef85-dbc1c3677934"
      },
      "source": [
        "X[0]"
      ],
      "execution_count": 142,
      "outputs": [
        {
          "output_type": "execute_result",
          "data": {
            "text/plain": [
              "array([3.000e+00, 1.000e+00, 1.180e+03, 5.650e+03, 1.000e+00, 0.000e+00,\n",
              "       3.000e+00, 7.000e+00, 1.180e+03, 0.000e+00, 1.955e+03, 0.000e+00,\n",
              "       1.340e+03])"
            ]
          },
          "metadata": {
            "tags": []
          },
          "execution_count": 142
        }
      ]
    },
    {
      "cell_type": "code",
      "metadata": {
        "id": "uMvPcP6-pRRM",
        "colab_type": "code",
        "colab": {
          "base_uri": "https://localhost:8080/",
          "height": 34
        },
        "outputId": "485e8cc1-cd55-4e5e-b700-03da55751876"
      },
      "source": [
        "y[0]"
      ],
      "execution_count": 143,
      "outputs": [
        {
          "output_type": "execute_result",
          "data": {
            "text/plain": [
              "221900.0"
            ]
          },
          "metadata": {
            "tags": []
          },
          "execution_count": 143
        }
      ]
    },
    {
      "cell_type": "code",
      "metadata": {
        "id": "TjqjPoZ2p5nn",
        "colab_type": "code",
        "colab": {}
      },
      "source": [
        "from sklearn.model_selection import train_test_split\n",
        "X_train, X_test, y_train, y_test = train_test_split(X, y, test_size = 1/3, shuffle = False, random_state = 1)"
      ],
      "execution_count": 144,
      "outputs": []
    },
    {
      "cell_type": "code",
      "metadata": {
        "id": "ArMOJQrJqcC0",
        "colab_type": "code",
        "colab": {
          "base_uri": "https://localhost:8080/",
          "height": 34
        },
        "outputId": "5375eda9-3f87-40cf-c117-e3069316b390"
      },
      "source": [
        "len(X)"
      ],
      "execution_count": 145,
      "outputs": [
        {
          "output_type": "execute_result",
          "data": {
            "text/plain": [
              "21613"
            ]
          },
          "metadata": {
            "tags": []
          },
          "execution_count": 145
        }
      ]
    },
    {
      "cell_type": "code",
      "metadata": {
        "id": "WO6I9E7eql4-",
        "colab_type": "code",
        "colab": {
          "base_uri": "https://localhost:8080/",
          "height": 34
        },
        "outputId": "0f018a53-eb58-455f-cf2f-fc894f9d43d4"
      },
      "source": [
        "len(X_train)"
      ],
      "execution_count": 146,
      "outputs": [
        {
          "output_type": "execute_result",
          "data": {
            "text/plain": [
              "14408"
            ]
          },
          "metadata": {
            "tags": []
          },
          "execution_count": 146
        }
      ]
    },
    {
      "cell_type": "code",
      "metadata": {
        "id": "yB2sKUI_qv5-",
        "colab_type": "code",
        "colab": {
          "base_uri": "https://localhost:8080/",
          "height": 34
        },
        "outputId": "f7996204-e8fd-4613-a21f-1cdac115dd57"
      },
      "source": [
        "len(X_test)"
      ],
      "execution_count": 147,
      "outputs": [
        {
          "output_type": "execute_result",
          "data": {
            "text/plain": [
              "7205"
            ]
          },
          "metadata": {
            "tags": []
          },
          "execution_count": 147
        }
      ]
    },
    {
      "cell_type": "code",
      "metadata": {
        "id": "nWAU561Jq2Mf",
        "colab_type": "code",
        "colab": {}
      },
      "source": [
        "import statsmodels.api as sm"
      ],
      "execution_count": 148,
      "outputs": []
    },
    {
      "cell_type": "code",
      "metadata": {
        "id": "argdFUFBq99h",
        "colab_type": "code",
        "colab": {}
      },
      "source": [
        "model = sm.OLS(y_train, X_train).fit()"
      ],
      "execution_count": 149,
      "outputs": []
    },
    {
      "cell_type": "code",
      "metadata": {
        "id": "FHq0AlMWroLN",
        "colab_type": "code",
        "colab": {
          "base_uri": "https://localhost:8080/",
          "height": 679
        },
        "outputId": "af3bde49-a64d-44a5-97eb-e399aacd14a1"
      },
      "source": [
        "model.summary()"
      ],
      "execution_count": 150,
      "outputs": [
        {
          "output_type": "execute_result",
          "data": {
            "text/html": [
              "<table class=\"simpletable\">\n",
              "<caption>OLS Regression Results</caption>\n",
              "<tr>\n",
              "  <th>Dep. Variable:</th>            <td>y</td>        <th>  R-squared (uncentered):</th>       <td>   0.870</td>  \n",
              "</tr>\n",
              "<tr>\n",
              "  <th>Model:</th>                   <td>OLS</td>       <th>  Adj. R-squared (uncentered):</th>  <td>   0.870</td>  \n",
              "</tr>\n",
              "<tr>\n",
              "  <th>Method:</th>             <td>Least Squares</td>  <th>  F-statistic:       </th>           <td>   8026.</td>  \n",
              "</tr>\n",
              "<tr>\n",
              "  <th>Date:</th>             <td>Sat, 04 Jul 2020</td> <th>  Prob (F-statistic):</th>            <td>  0.00</td>   \n",
              "</tr>\n",
              "<tr>\n",
              "  <th>Time:</th>                 <td>12:46:42</td>     <th>  Log-Likelihood:    </th>          <td>-1.9853e+05</td>\n",
              "</tr>\n",
              "<tr>\n",
              "  <th>No. Observations:</th>      <td> 14408</td>      <th>  AIC:               </th>           <td>3.971e+05</td> \n",
              "</tr>\n",
              "<tr>\n",
              "  <th>Df Residuals:</th>          <td> 14396</td>      <th>  BIC:               </th>           <td>3.972e+05</td> \n",
              "</tr>\n",
              "<tr>\n",
              "  <th>Df Model:</th>              <td>    12</td>      <th>                     </th>               <td> </td>     \n",
              "</tr>\n",
              "<tr>\n",
              "  <th>Covariance Type:</th>      <td>nonrobust</td>    <th>                     </th>               <td> </td>     \n",
              "</tr>\n",
              "</table>\n",
              "<table class=\"simpletable\">\n",
              "<tr>\n",
              "   <td></td>      <th>coef</th>     <th>std err</th>      <th>t</th>      <th>P>|t|</th>  <th>[0.025</th>    <th>0.975]</th>  \n",
              "</tr>\n",
              "<tr>\n",
              "  <th>x1</th>  <td>-3.594e+04</td> <td> 2736.089</td> <td>  -13.137</td> <td> 0.000</td> <td>-4.13e+04</td> <td>-3.06e+04</td>\n",
              "</tr>\n",
              "<tr>\n",
              "  <th>x2</th>  <td>-1.469e+04</td> <td> 4355.221</td> <td>   -3.372</td> <td> 0.001</td> <td>-2.32e+04</td> <td>-6150.813</td>\n",
              "</tr>\n",
              "<tr>\n",
              "  <th>x3</th>  <td>  129.7717</td> <td>    3.169</td> <td>   40.947</td> <td> 0.000</td> <td>  123.560</td> <td>  135.984</td>\n",
              "</tr>\n",
              "<tr>\n",
              "  <th>x4</th>  <td>   -0.3281</td> <td>    0.046</td> <td>   -7.080</td> <td> 0.000</td> <td>   -0.419</td> <td>   -0.237</td>\n",
              "</tr>\n",
              "<tr>\n",
              "  <th>x5</th>  <td> 1177.9796</td> <td> 5273.002</td> <td>    0.223</td> <td> 0.823</td> <td>-9157.783</td> <td> 1.15e+04</td>\n",
              "</tr>\n",
              "<tr>\n",
              "  <th>x6</th>  <td> 7.744e+04</td> <td> 2746.398</td> <td>   28.198</td> <td> 0.000</td> <td> 7.21e+04</td> <td> 8.28e+04</td>\n",
              "</tr>\n",
              "<tr>\n",
              "  <th>x7</th>  <td> 5.973e+04</td> <td> 2974.183</td> <td>   20.082</td> <td> 0.000</td> <td> 5.39e+04</td> <td> 6.56e+04</td>\n",
              "</tr>\n",
              "<tr>\n",
              "  <th>x8</th>  <td> 1.032e+05</td> <td> 3020.070</td> <td>   34.181</td> <td> 0.000</td> <td> 9.73e+04</td> <td> 1.09e+05</td>\n",
              "</tr>\n",
              "<tr>\n",
              "  <th>x9</th>  <td>   56.9335</td> <td>    3.233</td> <td>   17.610</td> <td> 0.000</td> <td>   50.596</td> <td>   63.271</td>\n",
              "</tr>\n",
              "<tr>\n",
              "  <th>x10</th> <td>   72.8382</td> <td>    3.633</td> <td>   20.050</td> <td> 0.000</td> <td>   65.717</td> <td>   79.959</td>\n",
              "</tr>\n",
              "<tr>\n",
              "  <th>x11</th> <td> -385.5455</td> <td>   11.051</td> <td>  -34.887</td> <td> 0.000</td> <td> -407.208</td> <td> -363.883</td>\n",
              "</tr>\n",
              "<tr>\n",
              "  <th>x12</th> <td>   79.0848</td> <td>    4.769</td> <td>   16.585</td> <td> 0.000</td> <td>   69.738</td> <td>   88.432</td>\n",
              "</tr>\n",
              "<tr>\n",
              "  <th>x13</th> <td>   21.4045</td> <td>    4.890</td> <td>    4.377</td> <td> 0.000</td> <td>   11.819</td> <td>   30.990</td>\n",
              "</tr>\n",
              "</table>\n",
              "<table class=\"simpletable\">\n",
              "<tr>\n",
              "  <th>Omnibus:</th>       <td>12303.453</td> <th>  Durbin-Watson:     </th>  <td>   1.985</td>  \n",
              "</tr>\n",
              "<tr>\n",
              "  <th>Prob(Omnibus):</th>  <td> 0.000</td>   <th>  Jarque-Bera (JB):  </th> <td>1168452.009</td>\n",
              "</tr>\n",
              "<tr>\n",
              "  <th>Skew:</th>           <td> 3.607</td>   <th>  Prob(JB):          </th>  <td>    0.00</td>  \n",
              "</tr>\n",
              "<tr>\n",
              "  <th>Kurtosis:</th>       <td>46.523</td>   <th>  Cond. No.          </th>  <td>1.73e+17</td>  \n",
              "</tr>\n",
              "</table><br/><br/>Warnings:<br/>[1] Standard Errors assume that the covariance matrix of the errors is correctly specified.<br/>[2] The smallest eigenvalue is 1.03e-21. This might indicate that there are<br/>strong multicollinearity problems or that the design matrix is singular."
            ],
            "text/plain": [
              "<class 'statsmodels.iolib.summary.Summary'>\n",
              "\"\"\"\n",
              "                                 OLS Regression Results                                \n",
              "=======================================================================================\n",
              "Dep. Variable:                      y   R-squared (uncentered):                   0.870\n",
              "Model:                            OLS   Adj. R-squared (uncentered):              0.870\n",
              "Method:                 Least Squares   F-statistic:                              8026.\n",
              "Date:                Sat, 04 Jul 2020   Prob (F-statistic):                        0.00\n",
              "Time:                        12:46:42   Log-Likelihood:                     -1.9853e+05\n",
              "No. Observations:               14408   AIC:                                  3.971e+05\n",
              "Df Residuals:                   14396   BIC:                                  3.972e+05\n",
              "Df Model:                          12                                                  \n",
              "Covariance Type:            nonrobust                                                  \n",
              "==============================================================================\n",
              "                 coef    std err          t      P>|t|      [0.025      0.975]\n",
              "------------------------------------------------------------------------------\n",
              "x1         -3.594e+04   2736.089    -13.137      0.000   -4.13e+04   -3.06e+04\n",
              "x2         -1.469e+04   4355.221     -3.372      0.001   -2.32e+04   -6150.813\n",
              "x3           129.7717      3.169     40.947      0.000     123.560     135.984\n",
              "x4            -0.3281      0.046     -7.080      0.000      -0.419      -0.237\n",
              "x5          1177.9796   5273.002      0.223      0.823   -9157.783    1.15e+04\n",
              "x6          7.744e+04   2746.398     28.198      0.000    7.21e+04    8.28e+04\n",
              "x7          5.973e+04   2974.183     20.082      0.000    5.39e+04    6.56e+04\n",
              "x8          1.032e+05   3020.070     34.181      0.000    9.73e+04    1.09e+05\n",
              "x9            56.9335      3.233     17.610      0.000      50.596      63.271\n",
              "x10           72.8382      3.633     20.050      0.000      65.717      79.959\n",
              "x11         -385.5455     11.051    -34.887      0.000    -407.208    -363.883\n",
              "x12           79.0848      4.769     16.585      0.000      69.738      88.432\n",
              "x13           21.4045      4.890      4.377      0.000      11.819      30.990\n",
              "==============================================================================\n",
              "Omnibus:                    12303.453   Durbin-Watson:                   1.985\n",
              "Prob(Omnibus):                  0.000   Jarque-Bera (JB):          1168452.009\n",
              "Skew:                           3.607   Prob(JB):                         0.00\n",
              "Kurtosis:                      46.523   Cond. No.                     1.73e+17\n",
              "==============================================================================\n",
              "\n",
              "Warnings:\n",
              "[1] Standard Errors assume that the covariance matrix of the errors is correctly specified.\n",
              "[2] The smallest eigenvalue is 1.03e-21. This might indicate that there are\n",
              "strong multicollinearity problems or that the design matrix is singular.\n",
              "\"\"\""
            ]
          },
          "metadata": {
            "tags": []
          },
          "execution_count": 150
        }
      ]
    },
    {
      "cell_type": "code",
      "metadata": {
        "id": "GINFm5OYskF1",
        "colab_type": "code",
        "colab": {}
      },
      "source": [
        "predictions = model.predict(X_test)"
      ],
      "execution_count": 151,
      "outputs": []
    },
    {
      "cell_type": "code",
      "metadata": {
        "id": "asFAnIsns2xn",
        "colab_type": "code",
        "colab": {
          "base_uri": "https://localhost:8080/",
          "height": 34
        },
        "outputId": "8ac490e2-eafa-49c8-a78f-ca888d111547"
      },
      "source": [
        "len(predictions)"
      ],
      "execution_count": 152,
      "outputs": [
        {
          "output_type": "execute_result",
          "data": {
            "text/plain": [
              "7205"
            ]
          },
          "metadata": {
            "tags": []
          },
          "execution_count": 152
        }
      ]
    },
    {
      "cell_type": "code",
      "metadata": {
        "id": "fEMYTQsStDZo",
        "colab_type": "code",
        "colab": {
          "base_uri": "https://localhost:8080/",
          "height": 34
        },
        "outputId": "a06633e3-c89c-4d33-8bfc-76e805dcb641"
      },
      "source": [
        "predictions[0]"
      ],
      "execution_count": 153,
      "outputs": [
        {
          "output_type": "execute_result",
          "data": {
            "text/plain": [
              "513688.85512731125"
            ]
          },
          "metadata": {
            "tags": []
          },
          "execution_count": 153
        }
      ]
    },
    {
      "cell_type": "code",
      "metadata": {
        "id": "pkhOifjgtTJ8",
        "colab_type": "code",
        "colab": {
          "base_uri": "https://localhost:8080/",
          "height": 34
        },
        "outputId": "e33ce473-afdd-4dc5-fc60-ceab75feb360"
      },
      "source": [
        "y_test[0]"
      ],
      "execution_count": 154,
      "outputs": [
        {
          "output_type": "execute_result",
          "data": {
            "text/plain": [
              "305000.0"
            ]
          },
          "metadata": {
            "tags": []
          },
          "execution_count": 154
        }
      ]
    },
    {
      "cell_type": "code",
      "metadata": {
        "id": "E1b50x4GuhUA",
        "colab_type": "code",
        "colab": {}
      },
      "source": [
        "from sklearn.metrics import mean_squared_error"
      ],
      "execution_count": 155,
      "outputs": []
    },
    {
      "cell_type": "code",
      "metadata": {
        "id": "-iqFhHXPurar",
        "colab_type": "code",
        "colab": {
          "base_uri": "https://localhost:8080/",
          "height": 34
        },
        "outputId": "4d3cca34-9855-42a0-8148-67d0e3c2ffbe"
      },
      "source": [
        "mean_squared_error(y_test, predictions)"
      ],
      "execution_count": 156,
      "outputs": [
        {
          "output_type": "execute_result",
          "data": {
            "text/plain": [
              "50848331707.143616"
            ]
          },
          "metadata": {
            "tags": []
          },
          "execution_count": 156
        }
      ]
    }
  ]
}